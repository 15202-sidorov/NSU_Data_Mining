{
 "cells": [
  {
   "cell_type": "code",
   "execution_count": 5,
   "metadata": {},
   "outputs": [],
   "source": [
    "from math import *"
   ]
  },
  {
   "cell_type": "code",
   "execution_count": 6,
   "metadata": {},
   "outputs": [],
   "source": [
    "# Task 1. Initializing the table.\n",
    "TABLE_NAME = \"Software development department stuff.\"\n",
    "\n",
    "NAME_INDEX = 0\n",
    "SALARY_INDEX = 1\n",
    "POSITION_INDEX = 2\n",
    "\n",
    "POSITIONS = (\"Junior\", \"Middle\", \"Sinior\",)\n",
    "FIELDS = (\"Name\", \"Salary per year($)\", \"Position index\",)\n",
    "\n",
    "employees = [\n",
    "    [\"Frank\",     60000, 0],\n",
    "    [\"Mikle\",     60000, 0],\n",
    "    [\"Mark\",      40000, 0],\n",
    "    [\"Erica\",     40000, 0],\n",
    "    [\"Bran\",      20000, 0],\n",
    "    [\"John\",      20000, 0],\n",
    "    [\"Jack\",     100000, 1],\n",
    "    [\"Margaret\", 100000, 1],\n",
    "    [\"Bob\",      150000, 2],\n",
    "]"
   ]
  },
  {
   "cell_type": "code",
   "execution_count": 7,
   "metadata": {},
   "outputs": [],
   "source": [
    "# Task 2. Count difference between objects.\n",
    "\n",
    "def diff_nominal_scale(object1, object2 ,data):\n",
    "    result_sum = 0\n",
    "    i = object1[NAME_INDEX]\n",
    "    j = object2[NAME_INDEX]\n",
    "    \n",
    "    for elem in data:\n",
    "        k = elem[NAME_INDEX]\n",
    "        if ((i == k) and (j == k)) or ((i != k) and (j != k)):\n",
    "            continue\n",
    "        elif ((i == k) and (j != k)) or ((i != k) and (j == k)):\n",
    "            result_sum += 1\n",
    "\n",
    "    return (1/len(data)) * result_sum"
   ]
  },
  {
   "cell_type": "code",
   "execution_count": 8,
   "metadata": {},
   "outputs": [],
   "source": [
    "def diff_ranged_scale(object1, object2, data):\n",
    "    \n",
    "    def not_to_increase(i, l, k):\n",
    "        return ((i < k) and (l < k)) or ((i > k) and (l > k)) or ((l == k) and (i == k))\n",
    "         \n",
    "    def is_plus_one(i, l, k):\n",
    "        return ((i < k) and (l > k)) or ((i > k) and (l < k))\n",
    "    \n",
    "    def is_plus_half(i, l, k):\n",
    "        return ((i == k) and (l != k)) or ((i != k) and (l == k))\n",
    "        \n",
    "    result_sum = 0\n",
    "    i = object1[POSITION_INDEX]\n",
    "    j = object2[POSITION_INDEX]\n",
    "    \n",
    "    for elem in data:\n",
    "        k = elem[POSITION_INDEX]\n",
    "        if not_to_increase(i, j, k):\n",
    "            continue\n",
    "        elif is_plus_one(i, j, k):\n",
    "            result_sum += 1\n",
    "        elif is_plus_half(i, j, k):\n",
    "            result_sum += 0.5\n",
    "\n",
    "    return (1/ (len(data) - 1)) * result_sum"
   ]
  },
  {
   "cell_type": "code",
   "execution_count": 9,
   "metadata": {},
   "outputs": [],
   "source": [
    "def diff_hard_scale(object1, object2, data):\n",
    "    \n",
    "    def salary_borders(data):\n",
    "        maximum = data[0][SALARY_INDEX]\n",
    "        minimum = data[0][SALARY_INDEX]\n",
    "        for elem in data:\n",
    "            if elem[SALARY_INDEX] > maximum:\n",
    "                maximum = elem[SALARY_INDEX]\n",
    "            if elem[SALARY_INDEX] < minimum:\n",
    "                minimum = elem[SALARY_INDEX]\n",
    "     \n",
    "        return {\"min\": minimum, \"max\": maximum}\n",
    "    \n",
    "    borders = salary_borders(data)\n",
    "    return (object1[SALARY_INDEX] - object2[SALARY_INDEX]) / (borders[\"max\"] - borders[\"min\"])"
   ]
  },
  {
   "cell_type": "code",
   "execution_count": 10,
   "metadata": {},
   "outputs": [],
   "source": [
    "def diff_total(object1, object2, data):\n",
    "\n",
    "    result = (1/sqrt(3)) * sqrt(diff_hard_scale(object1, object2, data)**2 + \n",
    "                                diff_ranged_scale(object1, object2, data)**2 + \n",
    "                                diff_nominal_scale(object1, object2, data)**2)\n",
    "\n",
    "    return result"
   ]
  },
  {
   "cell_type": "code",
   "execution_count": 11,
   "metadata": {},
   "outputs": [],
   "source": [
    "# Task 3. Count matrix of pair differences.\n",
    "\n",
    "def pair_diff_matrix(data):\n",
    "    result = []\n",
    "    for elem1 in data:\n",
    "        result.append([])\n",
    "        for elem2 in data:\n",
    "            result[-1].append(diff_total(elem1, elem2, data))\n",
    "\n",
    "    return result"
   ]
  },
  {
   "cell_type": "code",
   "execution_count": 12,
   "metadata": {},
   "outputs": [],
   "source": [
    "# Task 4. Finding object, the sum of distances for all others of which is minimal.\n",
    "\n",
    "def find_closest(data):\n",
    "\n",
    "    pair_matrix = pair_diff_matrix(data)\n",
    "    minimum = sum(pair_matrix[0])\n",
    "    min_elem = data[0]\n",
    "    for elem in pair_matrix:\n",
    "        if sum(elem) < minimum:\n",
    "            minimum = sum(elem)\n",
    "            min_elem = elem\n",
    "    return min_elem\n"
   ]
  },
  {
   "cell_type": "code",
   "execution_count": null,
   "metadata": {},
   "outputs": [],
   "source": []
  }
 ],
 "metadata": {
  "kernelspec": {
   "display_name": "Python 3",
   "language": "python",
   "name": "python3"
  },
  "language_info": {
   "codemirror_mode": {
    "name": "ipython",
    "version": 3
   },
   "file_extension": ".py",
   "mimetype": "text/x-python",
   "name": "python",
   "nbconvert_exporter": "python",
   "pygments_lexer": "ipython3",
   "version": "3.6.4"
  }
 },
 "nbformat": 4,
 "nbformat_minor": 2
}
